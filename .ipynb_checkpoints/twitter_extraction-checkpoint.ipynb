{
 "cells": [
  {
   "cell_type": "markdown",
   "metadata": {},
   "source": [
    "### Twitter extraction and first round of cleaning\n",
    "This notebook aims to retrieve tweets from the *Twitter API* using `tweepy` library and then make a first round of cleaning them (e.g. *drop duplicates*, *sort it* by date, apply some *regex*) and stored them in a csv.\n",
    "\n",
    "**Working on it...**"
   ]
  },
  {
   "cell_type": "code",
   "execution_count": 1,
   "metadata": {},
   "outputs": [],
   "source": [
    "import pandas as pd\n",
    "import numpy as np\n",
    "import tweepy\n",
    "\n",
    "import os\n",
    "from tqdm import tqdm\n",
    "from datetime import datetime\n",
    "import time"
   ]
  },
  {
   "cell_type": "code",
   "execution_count": 2,
   "metadata": {},
   "outputs": [],
   "source": [
    "# Hiding secret API keys in Environment Variables\n",
    "consumer_key = os.environ.get('CONSUMER_KEY')\n",
    "consumer_secret = os.environ.get('CONSUMER_SECRET')\n",
    "\n",
    "access_token = os.environ.get('ACCESS_TOKEN')\n",
    "access_token_secret = os.environ.get('ACCESS_TOKEN_SECRET')\n",
    "\n",
    "bearer_token = os.environ.get('BEARER_TOKEN')"
   ]
  },
  {
   "cell_type": "code",
   "execution_count": 3,
   "metadata": {},
   "outputs": [],
   "source": [
    "query = 'Bitcoin OR BTC OR #Bitcoin OR #BTC OR $Bitcoin OR $BTC'"
   ]
  },
  {
   "cell_type": "code",
   "execution_count": 4,
   "metadata": {},
   "outputs": [],
   "source": [
    "# Functions\n",
    "\n",
    "def connect_to_twitter_OAuth2(consumer_key=consumer_key, consumer_secret=consumer_secret):\n",
    "    \"\"\"Sets a connection to the twitter API.\n",
    "    \n",
    "    Parameters\n",
    "    ----------\n",
    "    consumer_key : set by default\n",
    "    consumer_secret : set by default\n",
    "    \"\"\"\n",
    "    auth = tweepy.AppAuthHandler(consumer_key, consumer_secret)\n",
    "    api = tweepy.API(auth)\n",
    "    return api\n",
    "\n",
    "\n",
    "def retrieve_tweets(api, since_id=None, max_id=None):\n",
    "    \"\"\"\n",
    "    It returns a twitter object with 100 tweets of a specific api response.\n",
    "    \n",
    "    Parameters\n",
    "    ----------\n",
    "    api : api connection (required)\n",
    "    since_id : if given, it returns tweets with an ID greater than that (newer)\n",
    "    max_id : if given, it returns tweets with an ID less or equal than that (older) (max. 7 days prior)\n",
    "    \"\"\"\n",
    "    return api.search(q=query,\n",
    "                      lang='en',\n",
    "                      result_type='recent',\n",
    "                      count=100,\n",
    "                      since_id=since_id,\n",
    "                      max_id=max_id,\n",
    "                      tweet_mode='extended')\n",
    "\n",
    "\n",
    "def extract_tweet_atributes(tweet_object):\n",
    "    \"\"\"It returns a Pandas DataFrame with a tweet per row and its attributes per column.\"\"\"\n",
    "    \n",
    "    tweets_list = []\n",
    "    \n",
    "    for tweet in tweet_object:\n",
    "        # Iterates over each tweet and gets its attributes\n",
    "        tweet_id = tweet.id   # Unique tweet identifier\n",
    "        text = tweet.full_text   # Sring, text of the tweet\n",
    "        screen_name = tweet.user.screen_name   # String, username\n",
    "        followers = tweet.user.followers_count   # Number of followers\n",
    "        retweet_count = tweet.retweet_count   # Number of retweets\n",
    "        favorite_count = tweet.favorite_count   # Number of favorites\n",
    "        created_at = tweet.created_at   # UTC time tweet created\n",
    "        source = tweet.source   # Utility used to post the tweet\n",
    "        reply_to_status = tweet.in_reply_to_status_id   # If reply: orginal tweet's ID\n",
    "        reply_to_user = tweet.in_reply_to_screen_name   # If reply: original tweet's screenname\n",
    "        # Append attributes to list\n",
    "        tweets_list.append({'tweet_id':tweet_id,\n",
    "                            'text':text, \n",
    "                            'screen_name':screen_name,\n",
    "                            'followers':followers,\n",
    "                            'retweet_count':retweet_count, \n",
    "                            'favorite_count':favorite_count, \n",
    "                            'created_at':created_at, \n",
    "                            'source':source,\n",
    "                            'reply_to_status':reply_to_status,\n",
    "                            'reply_to_user':reply_to_user})\n",
    "    # Creates a DataFrame\n",
    "    df = pd.DataFrame(tweets_list, columns=['tweet_id',\n",
    "                                            'text',\n",
    "                                            'screen_name',\n",
    "                                            'followers',\n",
    "                                            'retweet_count',\n",
    "                                            'favorite_count', \n",
    "                                            'created_at',\n",
    "                                            'source',\n",
    "                                            'reply_to_status',\n",
    "                                            'reply_to_user'])\n",
    "    return df"
   ]
  },
  {
   "cell_type": "markdown",
   "metadata": {},
   "source": [
    "**API rate limits:** Maximum of 450 requests per 15 minutes. Endpoint: Recent Search"
   ]
  },
  {
   "cell_type": "code",
   "execution_count": 61,
   "metadata": {},
   "outputs": [
    {
     "name": "stderr",
     "output_type": "stream",
     "text": [
      "100%|████████████████████████████████████████████████████████████████████████████████| 450/450 [04:01<00:00,  1.86it/s]\n"
     ]
    },
    {
     "name": "stdout",
     "output_type": "stream",
     "text": [
      "I've got 450 dataframes in my list so far.\n",
      "I'm sleeping @ 15:32:11...\n"
     ]
    },
    {
     "name": "stderr",
     "output_type": "stream",
     "text": [
      "100%|████████████████████████████████████████████████████████████████████████████████| 450/450 [03:59<00:00,  1.88it/s]\n"
     ]
    },
    {
     "name": "stdout",
     "output_type": "stream",
     "text": [
      "I've got 900 dataframes in my list so far.\n",
      "I'm sleeping @ 15:52:39...\n"
     ]
    },
    {
     "name": "stderr",
     "output_type": "stream",
     "text": [
      "100%|████████████████████████████████████████████████████████████████████████████████| 450/450 [04:01<00:00,  1.86it/s]\n"
     ]
    },
    {
     "name": "stdout",
     "output_type": "stream",
     "text": [
      "I've got 1350 dataframes in my list so far.\n",
      "Done :D\n",
      "Enjoy it!\n"
     ]
    }
   ],
   "source": [
    "# Main\n",
    "\n",
    "# Set a connection to the api\n",
    "api = connect_to_twitter_OAuth2()\n",
    "# Set some required variables\n",
    "number_of_requests = 450\n",
    "count = 0\n",
    "laps = 2\n",
    "last_id = 1356599704956456960\n",
    "dfs = []\n",
    "# First loop\n",
    "while count <= laps:\n",
    "    # Second loop\n",
    "    for i in tqdm(range(number_of_requests)):\n",
    "        if last_id:\n",
    "            crypto_tweets = retrieve_tweets(api, since_id=last_id)\n",
    "            df = extract_tweet_atributes(crypto_tweets)\n",
    "            # Set a new last_id. Next iteration starts taking tweets from it on\n",
    "            last_id = df['tweet_id'].max()\n",
    "            dfs.append(df)\n",
    "        # It's the first iteration and there is no last_id yet\n",
    "        else:\n",
    "            crypto_tweets = retrieve_tweets(api)\n",
    "            df = extract_tweet_atributes(crypto_tweets)\n",
    "            # Set the first last_id. Next iteration starts taking tweets from it on\n",
    "            last_id = df['tweet_id'].max()\n",
    "            dfs.append(df)\n",
    "            \n",
    "    print(f'I\\'ve got {len(dfs)} dataframes in my list so far.')\n",
    "    # It releases the counter and break the loop if necessary\n",
    "    count += 1\n",
    "    if count > laps:\n",
    "        break\n",
    "    # Time info\n",
    "    now = datetime.now()\n",
    "    current_time = now.strftime(\"%H:%M:%S\")\n",
    "    print(f'I\\'m sleeping @ {current_time}...')\n",
    "    \n",
    "    # Script getting some sleep til next 450 requests window\n",
    "    time.sleep(15 * 60)\n",
    "    \n",
    "df2 = pd.concat(dfs, ignore_index=True)\n",
    "print('Done :D\\nEnjoy it!')"
   ]
  },
  {
   "cell_type": "code",
   "execution_count": 62,
   "metadata": {},
   "outputs": [],
   "source": [
    "# Weaknesses:\n",
    "# 1. Set an if statement (or whatever) so the tweet retrieval function can include a since_id parameter:\n",
    "#     This will allow getting tweets from the last time the function was executed on.\n",
    "# 2. Data should be stored in a csv (or csvs) instead of a pandas df:\n",
    "#     We can achieve this by \"df.to_csv()\" or directly storing tweets in a csv by \"with open(.csv, a+)\"\n",
    "# 3. First round of cleaning:\n",
    "#     The function gathers 45.000 tweets per 15 min (lap)\n",
    "#     We noticed that most of them are duplicates. \n",
    "#     Which means there are certain ranges of time when there are not 45.000 new bitcoin tweets per 15 mins (not even close),\n",
    "#     therefore we end up with a tone of duplicate, useless tweets.\n",
    "#     Create a function that removes them, sort them by date (\"created_at\")\n",
    "#     and apply some \"re\" on them to remove links, #, etc. (even before storing them on a csv file)\n"
   ]
  },
  {
   "cell_type": "markdown",
   "metadata": {},
   "source": [
    "I'm afraid the method `since_id` from `api.search()` function doesn't work quite as expected :(. It seems that it's able to retrieve tweets just **one hour old**.\n",
    "\n",
    "Therefore, there's gonna always be a period of time where data is missing (between each time I run the *main* cell) unless the script is continuously running (for 10/14 days or so) :(((."
   ]
  },
  {
   "cell_type": "markdown",
   "metadata": {},
   "source": [
    "### Truncated tweets\n",
    "Texts over 140 characters are truncated. There could be a solution, adding `tweet_mode='extended` parameter when calling my \"retrive_tweets\" function. <br>\n",
    "Let's see it in action!\n",
    "\n",
    "AND IT WORKS!!! We got the full text of the tweet! Take that Twitter!\n",
    "It doesn't work for retweets though."
   ]
  },
  {
   "cell_type": "code",
   "execution_count": 69,
   "metadata": {},
   "outputs": [],
   "source": [
    "def first_cleaning(df):\n",
    "    \"\"\"It returns a DataFrame after dropping duplicates (subset=['tweet_id']) and sorting it (by='tweet_id')\n",
    "    \n",
    "    Parameters\n",
    "    ----------\n",
    "    df : Pandas DataFrame to clean\n",
    "    \"\"\"\n",
    "    df_no_dup = df.drop_duplicates(subset=['tweet_id'], ignore_index=True)\n",
    "    cleaned_df = df_no_dup.sort_values(by='tweet_id', ignore_index=True)\n",
    "    return cleaned_df"
   ]
  },
  {
   "cell_type": "code",
   "execution_count": null,
   "metadata": {},
   "outputs": [],
   "source": [
    "# First day test\n",
    "# df = df.sort_values(by='tweet_id', ignore_index=True).drop_duplicates(subset=['tweet_id'], ignore_index=True)"
   ]
  },
  {
   "cell_type": "code",
   "execution_count": 87,
   "metadata": {},
   "outputs": [],
   "source": [
    "# Path where the set of tweets will be stored to play with them\n",
    "file_path = 'C:/Users/Javi/00_raw_data/data_tfm/tweet_set.csv'"
   ]
  },
  {
   "cell_type": "code",
   "execution_count": 28,
   "metadata": {},
   "outputs": [],
   "source": [
    "# When reading from a csv file, specify date format columns you want.\n",
    "# first_data = pd.read_csv(first_file_path, parse_dates=['created_at'])\n",
    "# first_df = first_data.copy()"
   ]
  },
  {
   "cell_type": "code",
   "execution_count": 68,
   "metadata": {},
   "outputs": [
    {
     "name": "stdout",
     "output_type": "stream",
     "text": [
      "(4654, 10)\n"
     ]
    },
    {
     "data": {
      "text/html": [
       "<div>\n",
       "<style scoped>\n",
       "    .dataframe tbody tr th:only-of-type {\n",
       "        vertical-align: middle;\n",
       "    }\n",
       "\n",
       "    .dataframe tbody tr th {\n",
       "        vertical-align: top;\n",
       "    }\n",
       "\n",
       "    .dataframe thead th {\n",
       "        text-align: right;\n",
       "    }\n",
       "</style>\n",
       "<table border=\"1\" class=\"dataframe\">\n",
       "  <thead>\n",
       "    <tr style=\"text-align: right;\">\n",
       "      <th></th>\n",
       "      <th>tweet_id</th>\n",
       "      <th>text</th>\n",
       "      <th>screen_name</th>\n",
       "      <th>followers</th>\n",
       "      <th>retweet_count</th>\n",
       "      <th>favorite_count</th>\n",
       "      <th>created_at</th>\n",
       "      <th>source</th>\n",
       "      <th>reply_to_status</th>\n",
       "      <th>reply_to_user</th>\n",
       "    </tr>\n",
       "  </thead>\n",
       "  <tbody>\n",
       "    <tr>\n",
       "      <th>0</th>\n",
       "      <td>1356375993620049925</td>\n",
       "      <td>RT @LesangT: Elon Musk just got asked about Bi...</td>\n",
       "      <td>chocboipeter</td>\n",
       "      <td>503</td>\n",
       "      <td>19057</td>\n",
       "      <td>0</td>\n",
       "      <td>2021-02-01 22:56:51</td>\n",
       "      <td>Twitter for Android</td>\n",
       "      <td>NaN</td>\n",
       "      <td>NaN</td>\n",
       "    </tr>\n",
       "    <tr>\n",
       "      <th>1</th>\n",
       "      <td>1356375994932867072</td>\n",
       "      <td>RT @luizMilfont: \"My husband used to worry abo...</td>\n",
       "      <td>MoreKoolaidPlz</td>\n",
       "      <td>116</td>\n",
       "      <td>6</td>\n",
       "      <td>0</td>\n",
       "      <td>2021-02-01 22:56:52</td>\n",
       "      <td>Twitter for Android</td>\n",
       "      <td>NaN</td>\n",
       "      <td>NaN</td>\n",
       "    </tr>\n",
       "    <tr>\n",
       "      <th>2</th>\n",
       "      <td>1356376000129425409</td>\n",
       "      <td>RT @genesimmons: I’m not recommending any of t...</td>\n",
       "      <td>ShitCinc</td>\n",
       "      <td>48</td>\n",
       "      <td>2731</td>\n",
       "      <td>0</td>\n",
       "      <td>2021-02-01 22:56:53</td>\n",
       "      <td>Twitter for iPhone</td>\n",
       "      <td>NaN</td>\n",
       "      <td>NaN</td>\n",
       "    </tr>\n",
       "  </tbody>\n",
       "</table>\n",
       "</div>"
      ],
      "text/plain": [
       "              tweet_id                                               text  \\\n",
       "0  1356375993620049925  RT @LesangT: Elon Musk just got asked about Bi...   \n",
       "1  1356375994932867072  RT @luizMilfont: \"My husband used to worry abo...   \n",
       "2  1356376000129425409  RT @genesimmons: I’m not recommending any of t...   \n",
       "\n",
       "      screen_name followers retweet_count favorite_count          created_at  \\\n",
       "0    chocboipeter       503         19057              0 2021-02-01 22:56:51   \n",
       "1  MoreKoolaidPlz       116             6              0 2021-02-01 22:56:52   \n",
       "2        ShitCinc        48          2731              0 2021-02-01 22:56:53   \n",
       "\n",
       "                source reply_to_status reply_to_user  \n",
       "0  Twitter for Android             NaN           NaN  \n",
       "1  Twitter for Android             NaN           NaN  \n",
       "2   Twitter for iPhone             NaN           NaN  "
      ]
     },
     "execution_count": 68,
     "metadata": {},
     "output_type": "execute_result"
    }
   ],
   "source": [
    "# First df & Second df were concatenated in *new_df*\n",
    "print(new_df.shape)\n",
    "new_df.head(3)"
   ]
  },
  {
   "cell_type": "code",
   "execution_count": 71,
   "metadata": {},
   "outputs": [
    {
     "name": "stdout",
     "output_type": "stream",
     "text": [
      "(33204, 10)\n"
     ]
    },
    {
     "data": {
      "text/html": [
       "<div>\n",
       "<style scoped>\n",
       "    .dataframe tbody tr th:only-of-type {\n",
       "        vertical-align: middle;\n",
       "    }\n",
       "\n",
       "    .dataframe tbody tr th {\n",
       "        vertical-align: top;\n",
       "    }\n",
       "\n",
       "    .dataframe thead th {\n",
       "        text-align: right;\n",
       "    }\n",
       "</style>\n",
       "<table border=\"1\" class=\"dataframe\">\n",
       "  <thead>\n",
       "    <tr style=\"text-align: right;\">\n",
       "      <th></th>\n",
       "      <th>tweet_id</th>\n",
       "      <th>text</th>\n",
       "      <th>screen_name</th>\n",
       "      <th>followers</th>\n",
       "      <th>retweet_count</th>\n",
       "      <th>favorite_count</th>\n",
       "      <th>created_at</th>\n",
       "      <th>source</th>\n",
       "      <th>reply_to_status</th>\n",
       "      <th>reply_to_user</th>\n",
       "    </tr>\n",
       "  </thead>\n",
       "  <tbody>\n",
       "    <tr>\n",
       "      <th>0</th>\n",
       "      <td>1356610350989336581</td>\n",
       "      <td>RT @CryptoGuardian4: GIVEAWAY time!\\nTo celebr...</td>\n",
       "      <td>mathgril</td>\n",
       "      <td>1977</td>\n",
       "      <td>7</td>\n",
       "      <td>0</td>\n",
       "      <td>2021-02-02 14:28:06</td>\n",
       "      <td>_math_bot_</td>\n",
       "      <td>NaN</td>\n",
       "      <td>None</td>\n",
       "    </tr>\n",
       "    <tr>\n",
       "      <th>1</th>\n",
       "      <td>1356610350796443655</td>\n",
       "      <td>RT @latokens: Join UNIS airdrop to get free cr...</td>\n",
       "      <td>Haseebdogar61</td>\n",
       "      <td>4</td>\n",
       "      <td>2990</td>\n",
       "      <td>0</td>\n",
       "      <td>2021-02-02 14:28:06</td>\n",
       "      <td>Twitter for Android</td>\n",
       "      <td>NaN</td>\n",
       "      <td>None</td>\n",
       "    </tr>\n",
       "    <tr>\n",
       "      <th>2</th>\n",
       "      <td>1356610350322487301</td>\n",
       "      <td>@CardanoRmy As we begin to see limitations of ...</td>\n",
       "      <td>dan_jackson</td>\n",
       "      <td>150</td>\n",
       "      <td>0</td>\n",
       "      <td>0</td>\n",
       "      <td>2021-02-02 14:28:06</td>\n",
       "      <td>Twitter Web App</td>\n",
       "      <td>1.35659e+18</td>\n",
       "      <td>CardanoRmy</td>\n",
       "    </tr>\n",
       "  </tbody>\n",
       "</table>\n",
       "</div>"
      ],
      "text/plain": [
       "              tweet_id                                               text  \\\n",
       "0  1356610350989336581  RT @CryptoGuardian4: GIVEAWAY time!\\nTo celebr...   \n",
       "1  1356610350796443655  RT @latokens: Join UNIS airdrop to get free cr...   \n",
       "2  1356610350322487301  @CardanoRmy As we begin to see limitations of ...   \n",
       "\n",
       "     screen_name followers retweet_count favorite_count          created_at  \\\n",
       "0       mathgril      1977             7              0 2021-02-02 14:28:06   \n",
       "1  Haseebdogar61         4          2990              0 2021-02-02 14:28:06   \n",
       "2    dan_jackson       150             0              0 2021-02-02 14:28:06   \n",
       "\n",
       "                source reply_to_status reply_to_user  \n",
       "0           _math_bot_             NaN          None  \n",
       "1  Twitter for Android             NaN          None  \n",
       "2      Twitter Web App     1.35659e+18    CardanoRmy  "
      ]
     },
     "execution_count": 71,
     "metadata": {},
     "output_type": "execute_result"
    }
   ],
   "source": [
    "# Third df\n",
    "print(df2.shape)\n",
    "df2.head(3)"
   ]
  },
  {
   "cell_type": "code",
   "execution_count": 70,
   "metadata": {},
   "outputs": [],
   "source": [
    "third_df = first_cleaning(df2)"
   ]
  },
  {
   "cell_type": "code",
   "execution_count": 72,
   "metadata": {},
   "outputs": [
    {
     "name": "stdout",
     "output_type": "stream",
     "text": [
      "(2745, 10)\n"
     ]
    },
    {
     "data": {
      "text/html": [
       "<div>\n",
       "<style scoped>\n",
       "    .dataframe tbody tr th:only-of-type {\n",
       "        vertical-align: middle;\n",
       "    }\n",
       "\n",
       "    .dataframe tbody tr th {\n",
       "        vertical-align: top;\n",
       "    }\n",
       "\n",
       "    .dataframe thead th {\n",
       "        text-align: right;\n",
       "    }\n",
       "</style>\n",
       "<table border=\"1\" class=\"dataframe\">\n",
       "  <thead>\n",
       "    <tr style=\"text-align: right;\">\n",
       "      <th></th>\n",
       "      <th>tweet_id</th>\n",
       "      <th>text</th>\n",
       "      <th>screen_name</th>\n",
       "      <th>followers</th>\n",
       "      <th>retweet_count</th>\n",
       "      <th>favorite_count</th>\n",
       "      <th>created_at</th>\n",
       "      <th>source</th>\n",
       "      <th>reply_to_status</th>\n",
       "      <th>reply_to_user</th>\n",
       "    </tr>\n",
       "  </thead>\n",
       "  <tbody>\n",
       "    <tr>\n",
       "      <th>0</th>\n",
       "      <td>1356610227383246850</td>\n",
       "      <td>RT @latokens: Join UNIS airdrop to get free cr...</td>\n",
       "      <td>MdShadd24001234</td>\n",
       "      <td>2</td>\n",
       "      <td>2979</td>\n",
       "      <td>0</td>\n",
       "      <td>2021-02-02 14:27:37</td>\n",
       "      <td>Twitter Web App</td>\n",
       "      <td>NaN</td>\n",
       "      <td>None</td>\n",
       "    </tr>\n",
       "    <tr>\n",
       "      <th>1</th>\n",
       "      <td>1356610229597790208</td>\n",
       "      <td>Bitcoin Volatility Declines to 1-Month Low; Wh...</td>\n",
       "      <td>crypto_news_19</td>\n",
       "      <td>6222</td>\n",
       "      <td>1</td>\n",
       "      <td>0</td>\n",
       "      <td>2021-02-02 14:27:37</td>\n",
       "      <td></td>\n",
       "      <td>NaN</td>\n",
       "      <td>None</td>\n",
       "    </tr>\n",
       "    <tr>\n",
       "      <th>2</th>\n",
       "      <td>1356610234291265536</td>\n",
       "      <td>RT @crypto_news_19: Bitcoin Volatility Decline...</td>\n",
       "      <td>Bitcoin_RT</td>\n",
       "      <td>1654</td>\n",
       "      <td>1</td>\n",
       "      <td>0</td>\n",
       "      <td>2021-02-02 14:27:39</td>\n",
       "      <td></td>\n",
       "      <td>NaN</td>\n",
       "      <td>None</td>\n",
       "    </tr>\n",
       "  </tbody>\n",
       "</table>\n",
       "</div>"
      ],
      "text/plain": [
       "              tweet_id                                               text  \\\n",
       "0  1356610227383246850  RT @latokens: Join UNIS airdrop to get free cr...   \n",
       "1  1356610229597790208  Bitcoin Volatility Declines to 1-Month Low; Wh...   \n",
       "2  1356610234291265536  RT @crypto_news_19: Bitcoin Volatility Decline...   \n",
       "\n",
       "       screen_name followers retweet_count favorite_count          created_at  \\\n",
       "0  MdShadd24001234         2          2979              0 2021-02-02 14:27:37   \n",
       "1   crypto_news_19      6222             1              0 2021-02-02 14:27:37   \n",
       "2       Bitcoin_RT      1654             1              0 2021-02-02 14:27:39   \n",
       "\n",
       "            source reply_to_status reply_to_user  \n",
       "0  Twitter Web App             NaN          None  \n",
       "1                              NaN          None  \n",
       "2                              NaN          None  "
      ]
     },
     "execution_count": 72,
     "metadata": {},
     "output_type": "execute_result"
    }
   ],
   "source": [
    "# Third df cleaned\n",
    "print(third_df.shape)\n",
    "third_df.head(3)"
   ]
  },
  {
   "cell_type": "code",
   "execution_count": 75,
   "metadata": {},
   "outputs": [],
   "source": [
    "tweets_data = pd.concat([new_df, third_df], ignore_index=True)"
   ]
  },
  {
   "cell_type": "code",
   "execution_count": 80,
   "metadata": {},
   "outputs": [
    {
     "data": {
      "text/plain": [
       "Timestamp('2021-02-02 13:45:48')"
      ]
     },
     "execution_count": 80,
     "metadata": {},
     "output_type": "execute_result"
    }
   ],
   "source": [
    "new_df['created_at'].max()"
   ]
  },
  {
   "cell_type": "code",
   "execution_count": 81,
   "metadata": {},
   "outputs": [
    {
     "data": {
      "text/plain": [
       "Timestamp('2021-02-02 14:27:37')"
      ]
     },
     "execution_count": 81,
     "metadata": {},
     "output_type": "execute_result"
    }
   ],
   "source": [
    "# It should have started grabing tweets from 13:45, not 14:27.\n",
    "# At least started taking tweets 1 hour before I ran it (15:28)\n",
    "third_df['created_at'].min()"
   ]
  },
  {
   "cell_type": "code",
   "execution_count": 88,
   "metadata": {},
   "outputs": [],
   "source": [
    "# Save it data to a csv\n",
    "tweets_data.to_csv(file_path, sep=',', index=False)"
   ]
  },
  {
   "cell_type": "code",
   "execution_count": null,
   "metadata": {},
   "outputs": [],
   "source": []
  },
  {
   "cell_type": "code",
   "execution_count": null,
   "metadata": {},
   "outputs": [],
   "source": []
  },
  {
   "cell_type": "code",
   "execution_count": null,
   "metadata": {},
   "outputs": [],
   "source": []
  },
  {
   "cell_type": "code",
   "execution_count": null,
   "metadata": {},
   "outputs": [],
   "source": []
  }
 ],
 "metadata": {
  "kernelspec": {
   "display_name": "Python 3",
   "language": "python",
   "name": "python3"
  },
  "language_info": {
   "codemirror_mode": {
    "name": "ipython",
    "version": 3
   },
   "file_extension": ".py",
   "mimetype": "text/x-python",
   "name": "python",
   "nbconvert_exporter": "python",
   "pygments_lexer": "ipython3",
   "version": "3.7.4"
  }
 },
 "nbformat": 4,
 "nbformat_minor": 2
}
