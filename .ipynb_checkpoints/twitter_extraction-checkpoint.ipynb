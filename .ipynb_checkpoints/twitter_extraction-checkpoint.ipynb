{
 "cells": [
  {
   "cell_type": "markdown",
   "metadata": {},
   "source": [
    "### Twitter extraction and first round of cleaning\n",
    "This notebook aims to retrieve tweets from the *Twitter API* using `tweepy` library and then make a first round of cleaning them (e.g. *drop duplicates*, *sort it* by date, apply some *regex*) and stored them in a csv.\n",
    "\n",
    "**Working on it...**"
   ]
  },
  {
   "cell_type": "code",
   "execution_count": 1,
   "metadata": {},
   "outputs": [],
   "source": [
    "import pandas as pd\n",
    "import numpy as np\n",
    "import tweepy\n",
    "\n",
    "import os\n",
    "from tqdm import tqdm\n",
    "from datetime import datetime\n",
    "import time"
   ]
  },
  {
   "cell_type": "code",
   "execution_count": 2,
   "metadata": {},
   "outputs": [],
   "source": [
    "# Hiding secret API keys in Environment Variables\n",
    "consumer_key = os.environ.get('CONSUMER_KEY')\n",
    "consumer_secret = os.environ.get('CONSUMER_SECRET')\n",
    "\n",
    "access_token = os.environ.get('ACCESS_TOKEN')\n",
    "access_token_secret = os.environ.get('ACCESS_TOKEN_SECRET')\n",
    "\n",
    "bearer_token = os.environ.get('BEARER_TOKEN')"
   ]
  },
  {
   "cell_type": "code",
   "execution_count": 3,
   "metadata": {},
   "outputs": [],
   "source": [
    "query = 'Bitcoin OR BTC OR #Bitcoin OR #BTC OR $Bitcoin OR $BTC'"
   ]
  },
  {
   "cell_type": "code",
   "execution_count": 4,
   "metadata": {},
   "outputs": [],
   "source": [
    "# Functions\n",
    "\n",
    "def connect_to_twitter_OAuth2(consumer_key=consumer_key, consumer_secret=consumer_secret):\n",
    "    \"\"\"Sets a connection to the twitter API.\n",
    "    \n",
    "    Parameters\n",
    "    ----------\n",
    "    consumer_key : set by default\n",
    "    consumer_secret : set by default\n",
    "    \"\"\"\n",
    "    auth = tweepy.AppAuthHandler(consumer_key, consumer_secret)\n",
    "    api = tweepy.API(auth)\n",
    "    return api\n",
    "\n",
    "\n",
    "def retrieve_tweets(api, since_id=None, max_id=None):\n",
    "    \"\"\"\n",
    "    It returns a twitter object with 100 tweets of a specific api response.\n",
    "    \n",
    "    Parameters\n",
    "    ----------\n",
    "    api : api connection (required)\n",
    "    since_id : if given, it returns tweets with an ID greater than that (newer)\n",
    "    max_id : if given, it returns tweets with an ID less or equal than that (older) (max. 7 days prior)\n",
    "    \"\"\"\n",
    "    return api.search(q=query, lang='en', result_type='recent', count=100, since_id=since_id, max_id=max_id)\n",
    "\n",
    "\n",
    "def extract_tweet_atributes(tweet_object):\n",
    "    \"\"\"It returns a Pandas DataFrame with a tweet per row and its attributes per column.\"\"\"\n",
    "    \n",
    "    tweets_list = []\n",
    "    \n",
    "    for tweet in tweet_object:\n",
    "        # Iterates over each tweet and gets its attributes\n",
    "        tweet_id = tweet.id   # Unique tweet identifier\n",
    "        text = tweet.text   # Sring, text of the tweet\n",
    "        screen_name = tweet.user.screen_name   # String, username\n",
    "        followers = tweet.user.followers_count   # Number of followers\n",
    "        retweet_count = tweet.retweet_count   # Number of retweets\n",
    "        favorite_count = tweet.favorite_count   # Number of favorites\n",
    "        created_at = tweet.created_at   # UTC time tweet created\n",
    "        source = tweet.source   # Utility used to post the tweet\n",
    "        reply_to_status = tweet.in_reply_to_status_id   # If reply: orginal tweet's ID\n",
    "        reply_to_user = tweet.in_reply_to_screen_name   # If reply: original tweet's screenname\n",
    "        # Append attributes to list\n",
    "        tweets_list.append({'tweet_id':tweet_id,\n",
    "                            'text':text, \n",
    "                            'screen_name':screen_name,\n",
    "                            'followers':followers,\n",
    "                            'retweet_count':retweet_count, \n",
    "                            'favorite_count':favorite_count, \n",
    "                            'created_at':created_at, \n",
    "                            'source':source,\n",
    "                            'reply_to_status':reply_to_status,\n",
    "                            'reply_to_user':reply_to_user})\n",
    "    # Creates a DataFrame\n",
    "    df = pd.DataFrame(tweets_list, columns=['tweet_id',\n",
    "                                            'text',\n",
    "                                            'screen_name',\n",
    "                                            'followers',\n",
    "                                            'retweet_count',\n",
    "                                            'favorite_count', \n",
    "                                            'created_at',\n",
    "                                            'source',\n",
    "                                            'reply_to_status',\n",
    "                                            'reply_to_user'])\n",
    "    return df"
   ]
  },
  {
   "cell_type": "markdown",
   "metadata": {},
   "source": [
    "**API rate limits:** Maximum of 450 requests per 15 minutes. Endpoint: Recent Search"
   ]
  },
  {
   "cell_type": "code",
   "execution_count": 5,
   "metadata": {},
   "outputs": [
    {
     "name": "stderr",
     "output_type": "stream",
     "text": [
      "100%|████████████████████████████████████████████████████████████████████████████████| 450/450 [06:49<00:00,  1.10it/s]\n"
     ]
    },
    {
     "name": "stdout",
     "output_type": "stream",
     "text": [
      "I've got 450 dataframes in my list so far.\n",
      "I'm sleeping now...\n"
     ]
    },
    {
     "name": "stderr",
     "output_type": "stream",
     "text": [
      "100%|████████████████████████████████████████████████████████████████████████████████| 450/450 [07:17<00:00,  1.03it/s]\n"
     ]
    },
    {
     "name": "stdout",
     "output_type": "stream",
     "text": [
      "I've got 900 dataframes in my list so far.\n",
      "I'm sleeping now...\n"
     ]
    }
   ],
   "source": [
    "# Main\n",
    "\n",
    "# Set a connection to the api\n",
    "api = connect_to_twitter_OAuth2()\n",
    "# Set some required variables\n",
    "number_of_requests = 450\n",
    "count = 0\n",
    "laps = 2\n",
    "last_id = None\n",
    "dfs = []\n",
    "# First loop\n",
    "while count <= laps:\n",
    "    # Second loop\n",
    "    for i in tqdm(range(number_of_requests)):\n",
    "        \n",
    "        crypto_tweets = retrieve_tweets(api)\n",
    "        df = extract_tweet_atributes(crypto_tweets)\n",
    "        dfs.append(df)\n",
    "    \n",
    "    print(f'I\\'ve got {len(dfs)} dataframes in my list so far.')\n",
    "    # It releases the counter and break the loop if necessary\n",
    "    count += 1\n",
    "    if count == laps:\n",
    "        break\n",
    "    # Time info\n",
    "    now = datetime.now()\n",
    "    current_time = now.strftime(\"%H:%M:%S\")\n",
    "    print(f'I\\'m sleeping @ {current_time}...')\n",
    "    # Script getting some sleep til next 450 requests window\n",
    "    time.sleep(15 * 60)\n",
    "    \n",
    "print('Done! :D')\n",
    "df = pd.concat(dfs, ignore_index=True)"
   ]
  },
  {
   "cell_type": "code",
   "execution_count": 6,
   "metadata": {},
   "outputs": [],
   "source": [
    "# Weaknesses to improve:\n",
    "# 1. Set an if statement (or whatever) so the tweet retrieval function can include a since_id parameter:\n",
    "#     This will allow getting tweets from the last time the function was executed on.\n",
    "# 2. Data should be stored in a csv (or csvs) instead of a pandas df:\n",
    "#     We can achieve this by \"df.to_csv()\" or directly storing tweets in a csv by \"with open(.csv, a+)\"\n",
    "# 3. First round of cleaning:\n",
    "#     The function gathers 45.000 tweets per 15 min (lap)\n",
    "#     We noticed that most of them are duplicates. \n",
    "#     Which means there are certain ranges of time when there are not 45.000 new bitcoin tweets per 15 mins (not even close),\n",
    "#     therefore we end up with a tone of duplicate, useless tweets.\n",
    "#     Create a function that removes them, sort them by date (\"created_at\")\n",
    "#     and apply some \"re\" on them to remove links, #, etc. (even before storing them on a csv file)"
   ]
  },
  {
   "cell_type": "code",
   "execution_count": null,
   "metadata": {},
   "outputs": [],
   "source": []
  },
  {
   "cell_type": "code",
   "execution_count": null,
   "metadata": {},
   "outputs": [],
   "source": []
  },
  {
   "cell_type": "code",
   "execution_count": 17,
   "metadata": {},
   "outputs": [],
   "source": [
    "df = df.sort_values(by='created_at', ignore_index=True).drop_duplicates(subset=['tweet_id'], ignore_index=True)"
   ]
  },
  {
   "cell_type": "code",
   "execution_count": 19,
   "metadata": {},
   "outputs": [
    {
     "data": {
      "text/html": [
       "<div>\n",
       "<style scoped>\n",
       "    .dataframe tbody tr th:only-of-type {\n",
       "        vertical-align: middle;\n",
       "    }\n",
       "\n",
       "    .dataframe tbody tr th {\n",
       "        vertical-align: top;\n",
       "    }\n",
       "\n",
       "    .dataframe thead th {\n",
       "        text-align: right;\n",
       "    }\n",
       "</style>\n",
       "<table border=\"1\" class=\"dataframe\">\n",
       "  <thead>\n",
       "    <tr style=\"text-align: right;\">\n",
       "      <th></th>\n",
       "      <th>tweet_id</th>\n",
       "      <th>text</th>\n",
       "      <th>screen_name</th>\n",
       "      <th>followers</th>\n",
       "      <th>retweet_count</th>\n",
       "      <th>favorite_count</th>\n",
       "      <th>created_at</th>\n",
       "      <th>source</th>\n",
       "      <th>reply_to_status</th>\n",
       "      <th>reply_to_user</th>\n",
       "    </tr>\n",
       "  </thead>\n",
       "  <tbody>\n",
       "    <tr>\n",
       "      <th>0</th>\n",
       "      <td>1356375993620049925</td>\n",
       "      <td>RT @LesangT: Elon Musk just got asked about Bi...</td>\n",
       "      <td>chocboipeter</td>\n",
       "      <td>503</td>\n",
       "      <td>19057</td>\n",
       "      <td>0</td>\n",
       "      <td>2021-02-01 22:56:51</td>\n",
       "      <td>Twitter for Android</td>\n",
       "      <td>NaN</td>\n",
       "      <td>None</td>\n",
       "    </tr>\n",
       "    <tr>\n",
       "      <th>1</th>\n",
       "      <td>1356375994932867072</td>\n",
       "      <td>RT @luizMilfont: \"My husband used to worry abo...</td>\n",
       "      <td>MoreKoolaidPlz</td>\n",
       "      <td>116</td>\n",
       "      <td>6</td>\n",
       "      <td>0</td>\n",
       "      <td>2021-02-01 22:56:52</td>\n",
       "      <td>Twitter for Android</td>\n",
       "      <td>NaN</td>\n",
       "      <td>None</td>\n",
       "    </tr>\n",
       "    <tr>\n",
       "      <th>2</th>\n",
       "      <td>1356376000129425409</td>\n",
       "      <td>RT @genesimmons: I’m not recommending any of t...</td>\n",
       "      <td>ShitCinc</td>\n",
       "      <td>48</td>\n",
       "      <td>2731</td>\n",
       "      <td>0</td>\n",
       "      <td>2021-02-01 22:56:53</td>\n",
       "      <td>Twitter for iPhone</td>\n",
       "      <td>NaN</td>\n",
       "      <td>None</td>\n",
       "    </tr>\n",
       "    <tr>\n",
       "      <th>3</th>\n",
       "      <td>1356376001069133825</td>\n",
       "      <td>@Alts_Anonymous @f2pool_official Because they ...</td>\n",
       "      <td>Sil_Brazile</td>\n",
       "      <td>39</td>\n",
       "      <td>0</td>\n",
       "      <td>0</td>\n",
       "      <td>2021-02-01 22:56:53</td>\n",
       "      <td>Twitter for Android</td>\n",
       "      <td>1.356066e+18</td>\n",
       "      <td>Alts_Anonymous</td>\n",
       "    </tr>\n",
       "    <tr>\n",
       "      <th>4</th>\n",
       "      <td>1356375999450124288</td>\n",
       "      <td>RT @buddhistblaire: Let’s make DOGE the next B...</td>\n",
       "      <td>holdthedoge1</td>\n",
       "      <td>165</td>\n",
       "      <td>1</td>\n",
       "      <td>0</td>\n",
       "      <td>2021-02-01 22:56:53</td>\n",
       "      <td>Twitter for Android</td>\n",
       "      <td>NaN</td>\n",
       "      <td>None</td>\n",
       "    </tr>\n",
       "  </tbody>\n",
       "</table>\n",
       "</div>"
      ],
      "text/plain": [
       "              tweet_id                                               text  \\\n",
       "0  1356375993620049925  RT @LesangT: Elon Musk just got asked about Bi...   \n",
       "1  1356375994932867072  RT @luizMilfont: \"My husband used to worry abo...   \n",
       "2  1356376000129425409  RT @genesimmons: I’m not recommending any of t...   \n",
       "3  1356376001069133825  @Alts_Anonymous @f2pool_official Because they ...   \n",
       "4  1356375999450124288  RT @buddhistblaire: Let’s make DOGE the next B...   \n",
       "\n",
       "      screen_name  followers  retweet_count  favorite_count  \\\n",
       "0    chocboipeter        503          19057               0   \n",
       "1  MoreKoolaidPlz        116              6               0   \n",
       "2        ShitCinc         48           2731               0   \n",
       "3     Sil_Brazile         39              0               0   \n",
       "4    holdthedoge1        165              1               0   \n",
       "\n",
       "           created_at               source  reply_to_status   reply_to_user  \n",
       "0 2021-02-01 22:56:51  Twitter for Android              NaN            None  \n",
       "1 2021-02-01 22:56:52  Twitter for Android              NaN            None  \n",
       "2 2021-02-01 22:56:53   Twitter for iPhone              NaN            None  \n",
       "3 2021-02-01 22:56:53  Twitter for Android     1.356066e+18  Alts_Anonymous  \n",
       "4 2021-02-01 22:56:53  Twitter for Android              NaN            None  "
      ]
     },
     "execution_count": 19,
     "metadata": {},
     "output_type": "execute_result"
    }
   ],
   "source": [
    "df.head()"
   ]
  },
  {
   "cell_type": "code",
   "execution_count": 46,
   "metadata": {},
   "outputs": [
    {
     "data": {
      "text/plain": [
       "array([1356383500916690944], dtype=int64)"
      ]
     },
     "execution_count": 46,
     "metadata": {},
     "output_type": "execute_result"
    }
   ],
   "source": [
    "# Getting the last id\n",
    "df[df['created_at'] == df['created_at'].max()][::-1][:1]['tweet_id'].values"
   ]
  },
  {
   "cell_type": "code",
   "execution_count": 48,
   "metadata": {},
   "outputs": [],
   "source": [
    "# Path where first set of tweets will be stored to play with them\n",
    "file_path = 'C:/Users/Javi/00_raw_data/data_tfm/tweet_set.csv'\n",
    "\n",
    "df.to_csv(file_path, sep=',', index=False)"
   ]
  },
  {
   "cell_type": "code",
   "execution_count": 2,
   "metadata": {},
   "outputs": [
    {
     "data": {
      "text/plain": [
       "False"
      ]
     },
     "execution_count": 2,
     "metadata": {},
     "output_type": "execute_result"
    }
   ],
   "source": [
    "you = None\n",
    "bool(you)"
   ]
  },
  {
   "cell_type": "code",
   "execution_count": null,
   "metadata": {},
   "outputs": [],
   "source": []
  }
 ],
 "metadata": {
  "kernelspec": {
   "display_name": "Python 3",
   "language": "python",
   "name": "python3"
  },
  "language_info": {
   "codemirror_mode": {
    "name": "ipython",
    "version": 3
   },
   "file_extension": ".py",
   "mimetype": "text/x-python",
   "name": "python",
   "nbconvert_exporter": "python",
   "pygments_lexer": "ipython3",
   "version": "3.7.4"
  }
 },
 "nbformat": 4,
 "nbformat_minor": 2
}
