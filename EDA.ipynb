{
 "cells": [
  {
   "cell_type": "markdown",
   "metadata": {},
   "source": [
    "# EDA\n",
    "Or whatever. PLaying around with some data\n",
    "\n",
    "**Important:** The csv used for this analysis has tweet's texts truncated. <br>This issue has been solved for the next twitter retrieval season but this csv still got that problem."
   ]
  },
  {
   "cell_type": "code",
   "execution_count": 1,
   "metadata": {},
   "outputs": [
    {
     "name": "stdout",
     "output_type": "stream",
     "text": [
      "Populating the interactive namespace from numpy and matplotlib\n"
     ]
    }
   ],
   "source": [
    "import pandas as pd\n",
    "import numpy as np\n",
    "import matplotlib.pyplot as plt\n",
    "import spacy\n",
    "\n",
    "import re\n",
    "import os\n",
    "\n",
    "plt.style.use('seaborn')\n",
    "%pylab inline"
   ]
  },
  {
   "cell_type": "code",
   "execution_count": 2,
   "metadata": {},
   "outputs": [],
   "source": [
    "# Data file path\n",
    "file_path = 'C:/Users/Javi/Desktop/cryptocurrency_predictor/data/twitter/tweets.csv'\n",
    "cols = ['tweet_id',\n",
    "        'text',\n",
    "        'screen_name',\n",
    "        'followers',\n",
    "        'retweet_count',\n",
    "        'favorite_count',\n",
    "        'created_at',\n",
    "        'source']"
   ]
  },
  {
   "cell_type": "code",
   "execution_count": 3,
   "metadata": {},
   "outputs": [
    {
     "name": "stdout",
     "output_type": "stream",
     "text": [
      "<class 'pandas.core.frame.DataFrame'>\n",
      "RangeIndex: 25925 entries, 0 to 25924\n",
      "Data columns (total 8 columns):\n",
      " #   Column          Non-Null Count  Dtype \n",
      "---  ------          --------------  ----- \n",
      " 0   tweet_id        25925 non-null  object\n",
      " 1   text            25925 non-null  object\n",
      " 2   screen_name     25925 non-null  object\n",
      " 3   followers       25925 non-null  object\n",
      " 4   retweet_count   25925 non-null  object\n",
      " 5   favorite_count  25925 non-null  object\n",
      " 6   created_at      25925 non-null  object\n",
      " 7   source          25725 non-null  object\n",
      "dtypes: object(8)\n",
      "memory usage: 1.6+ MB\n"
     ]
    }
   ],
   "source": [
    "# First view of the df\n",
    "tweets = pd.read_csv(file_path, parse_dates=['created_at'], usecols=cols)\n",
    "data = tweets.copy()\n",
    "data.info()"
   ]
  },
  {
   "cell_type": "code",
   "execution_count": 4,
   "metadata": {},
   "outputs": [],
   "source": [
    "def first_cleaning(df):\n",
    "    \"\"\"It returns a DataFrame after dropping duplicates (subset=['tweet_id']) and sorting it (by='tweet_id')\n",
    "    \n",
    "    Parameters\n",
    "    ----------\n",
    "    df : Pandas DataFrame to clean\n",
    "    \"\"\"\n",
    "    df_no_dup = df.drop_duplicates(subset=['tweet_id'], ignore_index=True)\n",
    "    cleaned_df = df_no_dup.sort_values(by='tweet_id', ignore_index=True)\n",
    "    return cleaned_df\n",
    "\n",
    "\n",
    "def re_cleaning_round(text):\n",
    "    \"\"\"It returns a string without hashtags, new line characters, @ mentions and urls.\"\"\"\n",
    "    text = re.sub('#', '', text)\n",
    "    text = re.sub('\\n', '', text)\n",
    "    text = re.sub('@\\\\w+ *', '', text)\n",
    "    text = re.sub('https?://\\S*', '', text)\n",
    "    \n",
    "    return text\n",
    "\n",
    "re_cleaning = lambda x: re_cleaning_round(x)\n",
    "\n",
    "\n",
    "def rt_counter(df):\n",
    "    \"\"\"It returns how many retweets (RT) are in the column 'text' of a given DataFrame.\"\"\"\n",
    "    pattern = '^RT :.*'\n",
    "    count = 0\n",
    "    \n",
    "    for text in df['text']:\n",
    "        if re.match(pattern, text):\n",
    "            count +=1\n",
    "    return count\n",
    "\n",
    "\n",
    "def rt_dropper(df):\n",
    "    \"\"\"It returns a NEW DataFrame with no retweets in it. It does not modify the one passed to it.\"\"\"\n",
    "    pattern = '^RT :.*'\n",
    "    rows = []\n",
    "    \n",
    "    for i, text in enumerate(df['text']):\n",
    "        if re.match(pattern, text):\n",
    "            rows.append(i)\n",
    "    return df.drop(rows, )"
   ]
  },
  {
   "cell_type": "code",
   "execution_count": 5,
   "metadata": {},
   "outputs": [
    {
     "data": {
      "text/plain": [
       "(25923, 8)"
      ]
     },
     "execution_count": 5,
     "metadata": {},
     "output_type": "execute_result"
    }
   ],
   "source": [
    "data = first_cleaning(data)\n",
    "data.shape"
   ]
  },
  {
   "cell_type": "code",
   "execution_count": 6,
   "metadata": {},
   "outputs": [
    {
     "data": {
      "text/html": [
       "<div>\n",
       "<style scoped>\n",
       "    .dataframe tbody tr th:only-of-type {\n",
       "        vertical-align: middle;\n",
       "    }\n",
       "\n",
       "    .dataframe tbody tr th {\n",
       "        vertical-align: top;\n",
       "    }\n",
       "\n",
       "    .dataframe thead th {\n",
       "        text-align: right;\n",
       "    }\n",
       "</style>\n",
       "<table border=\"1\" class=\"dataframe\">\n",
       "  <thead>\n",
       "    <tr style=\"text-align: right;\">\n",
       "      <th></th>\n",
       "      <th>tweet_id</th>\n",
       "      <th>text</th>\n",
       "      <th>screen_name</th>\n",
       "      <th>followers</th>\n",
       "      <th>retweet_count</th>\n",
       "      <th>favorite_count</th>\n",
       "      <th>created_at</th>\n",
       "      <th>source</th>\n",
       "    </tr>\n",
       "  </thead>\n",
       "  <tbody>\n",
       "    <tr>\n",
       "      <th>25922</th>\n",
       "      <td>tweet_id</td>\n",
       "      <td>text</td>\n",
       "      <td>screen_name</td>\n",
       "      <td>followers</td>\n",
       "      <td>retweet_count</td>\n",
       "      <td>favorite_count</td>\n",
       "      <td>created_at</td>\n",
       "      <td>source</td>\n",
       "    </tr>\n",
       "  </tbody>\n",
       "</table>\n",
       "</div>"
      ],
      "text/plain": [
       "       tweet_id  text  screen_name  followers  retweet_count  favorite_count  \\\n",
       "25922  tweet_id  text  screen_name  followers  retweet_count  favorite_count   \n",
       "\n",
       "       created_at  source  \n",
       "25922  created_at  source  "
      ]
     },
     "execution_count": 6,
     "metadata": {},
     "output_type": "execute_result"
    }
   ],
   "source": [
    "data[data['tweet_id'] == 'tweet_id']"
   ]
  },
  {
   "cell_type": "code",
   "execution_count": 7,
   "metadata": {},
   "outputs": [],
   "source": [
    "data = data.drop([25922]).reset_index(drop=True)"
   ]
  },
  {
   "cell_type": "code",
   "execution_count": 8,
   "metadata": {},
   "outputs": [],
   "source": [
    "data['created_at'] = pd.to_datetime(data['created_at'])"
   ]
  },
  {
   "cell_type": "code",
   "execution_count": 9,
   "metadata": {},
   "outputs": [],
   "source": [
    "data['text'] = data['text'].apply(re_cleaning_round)"
   ]
  },
  {
   "cell_type": "code",
   "execution_count": 10,
   "metadata": {},
   "outputs": [
    {
     "name": "stdout",
     "output_type": "stream",
     "text": [
      "(25922, 8)\n"
     ]
    },
    {
     "data": {
      "text/html": [
       "<div>\n",
       "<style scoped>\n",
       "    .dataframe tbody tr th:only-of-type {\n",
       "        vertical-align: middle;\n",
       "    }\n",
       "\n",
       "    .dataframe tbody tr th {\n",
       "        vertical-align: top;\n",
       "    }\n",
       "\n",
       "    .dataframe thead th {\n",
       "        text-align: right;\n",
       "    }\n",
       "</style>\n",
       "<table border=\"1\" class=\"dataframe\">\n",
       "  <thead>\n",
       "    <tr style=\"text-align: right;\">\n",
       "      <th></th>\n",
       "      <th>tweet_id</th>\n",
       "      <th>text</th>\n",
       "      <th>screen_name</th>\n",
       "      <th>followers</th>\n",
       "      <th>retweet_count</th>\n",
       "      <th>favorite_count</th>\n",
       "      <th>created_at</th>\n",
       "      <th>source</th>\n",
       "    </tr>\n",
       "  </thead>\n",
       "  <tbody>\n",
       "    <tr>\n",
       "      <th>0</th>\n",
       "      <td>1358854507405467651</td>\n",
       "      <td>RT : LATOKEN Bitcoin Giveaway 💰5 lucky winners...</td>\n",
       "      <td>Damian53793910</td>\n",
       "      <td>29</td>\n",
       "      <td>2329</td>\n",
       "      <td>0</td>\n",
       "      <td>2021-02-08 19:05:35</td>\n",
       "      <td>Twitter for Android</td>\n",
       "    </tr>\n",
       "    <tr>\n",
       "      <th>1</th>\n",
       "      <td>1358854509888438273</td>\n",
       "      <td>Btc drops 2% &amp;amp; he's tweeetin up a storm.  ...</td>\n",
       "      <td>Bomock1</td>\n",
       "      <td>930</td>\n",
       "      <td>0</td>\n",
       "      <td>0</td>\n",
       "      <td>2021-02-08 19:05:36</td>\n",
       "      <td>Twitter for Android</td>\n",
       "    </tr>\n",
       "    <tr>\n",
       "      <th>2</th>\n",
       "      <td>1358854510345650182</td>\n",
       "      <td>RT : on the 02/08/2021 at 07:02 1BTC was worth...</td>\n",
       "      <td>fintechpro_org</td>\n",
       "      <td>196</td>\n",
       "      <td>1</td>\n",
       "      <td>0</td>\n",
       "      <td>2021-02-08 19:05:36</td>\n",
       "      <td>NaN</td>\n",
       "    </tr>\n",
       "    <tr>\n",
       "      <th>3</th>\n",
       "      <td>1358854511033524224</td>\n",
       "      <td>I get your point. Doge will never be as valuab...</td>\n",
       "      <td>traxxonwaxx99</td>\n",
       "      <td>241</td>\n",
       "      <td>0</td>\n",
       "      <td>0</td>\n",
       "      <td>2021-02-08 19:05:36</td>\n",
       "      <td>Twitter for iPhone</td>\n",
       "    </tr>\n",
       "    <tr>\n",
       "      <th>4</th>\n",
       "      <td>1358854511213879300</td>\n",
       "      <td>RT : Welcome to bitcoin, Elon.\"In retrospect, ...</td>\n",
       "      <td>1realmutumina</td>\n",
       "      <td>351</td>\n",
       "      <td>13</td>\n",
       "      <td>0</td>\n",
       "      <td>2021-02-08 19:05:36</td>\n",
       "      <td>Twitter for iPhone</td>\n",
       "    </tr>\n",
       "  </tbody>\n",
       "</table>\n",
       "</div>"
      ],
      "text/plain": [
       "              tweet_id                                               text  \\\n",
       "0  1358854507405467651  RT : LATOKEN Bitcoin Giveaway 💰5 lucky winners...   \n",
       "1  1358854509888438273  Btc drops 2% &amp; he's tweeetin up a storm.  ...   \n",
       "2  1358854510345650182  RT : on the 02/08/2021 at 07:02 1BTC was worth...   \n",
       "3  1358854511033524224  I get your point. Doge will never be as valuab...   \n",
       "4  1358854511213879300  RT : Welcome to bitcoin, Elon.\"In retrospect, ...   \n",
       "\n",
       "      screen_name followers retweet_count favorite_count          created_at  \\\n",
       "0  Damian53793910        29          2329              0 2021-02-08 19:05:35   \n",
       "1         Bomock1       930             0              0 2021-02-08 19:05:36   \n",
       "2  fintechpro_org       196             1              0 2021-02-08 19:05:36   \n",
       "3   traxxonwaxx99       241             0              0 2021-02-08 19:05:36   \n",
       "4   1realmutumina       351            13              0 2021-02-08 19:05:36   \n",
       "\n",
       "                source  \n",
       "0  Twitter for Android  \n",
       "1  Twitter for Android  \n",
       "2                  NaN  \n",
       "3   Twitter for iPhone  \n",
       "4   Twitter for iPhone  "
      ]
     },
     "execution_count": 10,
     "metadata": {},
     "output_type": "execute_result"
    }
   ],
   "source": [
    "print(data.shape)\n",
    "data.head()"
   ]
  },
  {
   "cell_type": "code",
   "execution_count": 11,
   "metadata": {},
   "outputs": [
    {
     "data": {
      "text/html": [
       "<div>\n",
       "<style scoped>\n",
       "    .dataframe tbody tr th:only-of-type {\n",
       "        vertical-align: middle;\n",
       "    }\n",
       "\n",
       "    .dataframe tbody tr th {\n",
       "        vertical-align: top;\n",
       "    }\n",
       "\n",
       "    .dataframe thead th {\n",
       "        text-align: right;\n",
       "    }\n",
       "</style>\n",
       "<table border=\"1\" class=\"dataframe\">\n",
       "  <thead>\n",
       "    <tr style=\"text-align: right;\">\n",
       "      <th></th>\n",
       "      <th>tweet_id</th>\n",
       "      <th>text</th>\n",
       "      <th>screen_name</th>\n",
       "      <th>followers</th>\n",
       "      <th>retweet_count</th>\n",
       "      <th>favorite_count</th>\n",
       "      <th>created_at</th>\n",
       "      <th>source</th>\n",
       "    </tr>\n",
       "  </thead>\n",
       "  <tbody>\n",
       "    <tr>\n",
       "      <th>1</th>\n",
       "      <td>1358854509888438273</td>\n",
       "      <td>Btc drops 2% &amp;amp; he's tweeetin up a storm.  ...</td>\n",
       "      <td>Bomock1</td>\n",
       "      <td>930</td>\n",
       "      <td>0</td>\n",
       "      <td>0</td>\n",
       "      <td>2021-02-08 19:05:36</td>\n",
       "      <td>Twitter for Android</td>\n",
       "    </tr>\n",
       "    <tr>\n",
       "      <th>3</th>\n",
       "      <td>1358854511033524224</td>\n",
       "      <td>I get your point. Doge will never be as valuab...</td>\n",
       "      <td>traxxonwaxx99</td>\n",
       "      <td>241</td>\n",
       "      <td>0</td>\n",
       "      <td>0</td>\n",
       "      <td>2021-02-08 19:05:36</td>\n",
       "      <td>Twitter for iPhone</td>\n",
       "    </tr>\n",
       "    <tr>\n",
       "      <th>7</th>\n",
       "      <td>1358854514346917888</td>\n",
       "      <td>In 2014 offered a deal where they’d give you $...</td>\n",
       "      <td>BonJarber</td>\n",
       "      <td>1243</td>\n",
       "      <td>0</td>\n",
       "      <td>0</td>\n",
       "      <td>2021-02-08 19:05:37</td>\n",
       "      <td>Twitter for iPhone</td>\n",
       "    </tr>\n",
       "  </tbody>\n",
       "</table>\n",
       "</div>"
      ],
      "text/plain": [
       "              tweet_id                                               text  \\\n",
       "1  1358854509888438273  Btc drops 2% &amp; he's tweeetin up a storm.  ...   \n",
       "3  1358854511033524224  I get your point. Doge will never be as valuab...   \n",
       "7  1358854514346917888  In 2014 offered a deal where they’d give you $...   \n",
       "\n",
       "     screen_name followers retweet_count favorite_count          created_at  \\\n",
       "1        Bomock1       930             0              0 2021-02-08 19:05:36   \n",
       "3  traxxonwaxx99       241             0              0 2021-02-08 19:05:36   \n",
       "7      BonJarber      1243             0              0 2021-02-08 19:05:37   \n",
       "\n",
       "                source  \n",
       "1  Twitter for Android  \n",
       "3   Twitter for iPhone  \n",
       "7   Twitter for iPhone  "
      ]
     },
     "execution_count": 11,
     "metadata": {},
     "output_type": "execute_result"
    }
   ],
   "source": [
    "df_no_rt = rt_dropper(data)\n",
    "df_no_rt.head(3)"
   ]
  },
  {
   "cell_type": "markdown",
   "metadata": {},
   "source": [
    "**Retweets vs no retweets**"
   ]
  },
  {
   "cell_type": "code",
   "execution_count": 12,
   "metadata": {},
   "outputs": [
    {
     "data": {
      "image/png": "[encoded data removed]",
      "text/plain": [
       "<Figure size 504x324 with 1 Axes>"
      ]
     },
     "metadata": {
      "needs_background": "light"
     },
     "output_type": "display_data"
    }
   ],
   "source": [
    "freq = rt_counter(data), len(data) - rt_counter(data)\n",
    "classes = ('RT', 'no RT')\n",
    "\n",
    "plt.figure(figsize=(7, 4.5))\n",
    "plt.bar(classes, freq, width=0.7, color=['coral','lightskyblue'])\n",
    "plt.title('Retweets vs Tweets');"
   ]
  },
  {
   "cell_type": "code",
   "execution_count": 13,
   "metadata": {},
   "outputs": [
    {
     "data": {
      "image/png": "[encoded data removed]",
      "text/plain": [
       "<Figure size 432x432 with 1 Axes>"
      ]
     },
     "metadata": {},
     "output_type": "display_data"
    }
   ],
   "source": [
    "labels = ['RT', 'no RT']\n",
    "sizes = rt_counter(data), len(data) - rt_counter(data)\n",
    "\n",
    "plt.figure(figsize=(6, 6))\n",
    "plt.pie(sizes, labels=labels, autopct='%1.1f%%', shadow=True, startangle=90, colors=['coral','lightskyblue']);"
   ]
  },
  {
   "cell_type": "markdown",
   "metadata": {},
   "source": [
    "**Tweet source** Where people is posting bitcoin tweets from"
   ]
  },
  {
   "cell_type": "code",
   "execution_count": 14,
   "metadata": {},
   "outputs": [
    {
     "name": "stdout",
     "output_type": "stream",
     "text": [
      "Bitcoin related tweets were posted from 287 different sources. Most of them are bots\n"
     ]
    }
   ],
   "source": [
    "sources = len(data['source'].value_counts())\n",
    "print(f'Bitcoin related tweets were posted from {sources} different sources. Most of them are bots')"
   ]
  },
  {
   "cell_type": "code",
   "execution_count": 15,
   "metadata": {},
   "outputs": [],
   "source": [
    "# Main sources where people post tweets from\n",
    "def tweet_sources(df, n_sources=5):\n",
    "    \"\"\"It returns a dictionary with the main sources used by people to post bitcoin related tweets as keys, and their counts as values.\n",
    "    \n",
    "    Parameters\n",
    "    ----------\n",
    "    df : DataFrame that contains a column named \"source\".\n",
    "    n_sources : Length of the returned dictionary\n",
    "    \"\"\"\n",
    "    sources = df['source'].value_counts().index\n",
    "    counts = df['source'].value_counts().values\n",
    "\n",
    "    main_sources = {}\n",
    "    counter = 0\n",
    "\n",
    "    for source, count in zip(sources, counts):\n",
    "        counter += 1\n",
    "        if counter <= n_sources:\n",
    "            main_sources[source] = count\n",
    "        else:\n",
    "            break\n",
    "\n",
    "    return main_sources"
   ]
  },
  {
   "cell_type": "code",
   "execution_count": 16,
   "metadata": {},
   "outputs": [],
   "source": [
    "main_sources = tweet_sources(data, 5)"
   ]
  },
  {
   "cell_type": "code",
   "execution_count": 17,
   "metadata": {},
   "outputs": [
    {
     "data": {
      "text/plain": [
       "Text(0.5, 1.0, 'Main sources where people post tweets from')"
      ]
     },
     "execution_count": 17,
     "metadata": {},
     "output_type": "execute_result"
    },
    {
     "data": {
      "image/png": "[encoded data removed]",
      "text/plain": [
       "<Figure size 720x432 with 1 Axes>"
      ]
     },
     "metadata": {
      "needs_background": "light"
     },
     "output_type": "display_data"
    }
   ],
   "source": [
    "plt.figure(figsize=(10, 6))\n",
    "plt.barh(list(main_sources.keys()), list(main_sources.values()))\n",
    "\n",
    "plt.title('Main sources where people post tweets from')"
   ]
  },
  {
   "cell_type": "markdown",
   "metadata": {},
   "source": [
    "**Number of individuals who posted about bitcoin** and how many times each one of those"
   ]
  },
  {
   "cell_type": "code",
   "execution_count": 18,
   "metadata": {},
   "outputs": [
    {
     "data": {
      "text/plain": [
       "(25922, 19643)"
      ]
     },
     "execution_count": 18,
     "metadata": {},
     "output_type": "execute_result"
    }
   ],
   "source": [
    "len(data['screen_name']), data['screen_name'].nunique()"
   ]
  },
  {
   "cell_type": "code",
   "execution_count": 19,
   "metadata": {},
   "outputs": [
    {
     "name": "stdout",
     "output_type": "stream",
     "text": [
      "16560 people posted bitcoin related tweets just once.\n"
     ]
    }
   ],
   "source": [
    "one_tweet_people = (data['screen_name'].value_counts() == 1).sum()\n",
    "print(f'{one_tweet_people} people posted bitcoin related tweets just once.')"
   ]
  },
  {
   "cell_type": "code",
   "execution_count": null,
   "metadata": {},
   "outputs": [],
   "source": [
    "# Make a histogram of how many times people posted a tweet in the period of study"
   ]
  },
  {
   "cell_type": "code",
   "execution_count": 58,
   "metadata": {},
   "outputs": [
    {
     "data": {
      "text/plain": [
       "1    16560\n",
       "2     2013\n",
       "3      537\n",
       "4      219\n",
       "5      120\n",
       "Name: screen_name, dtype: int64"
      ]
     },
     "execution_count": 58,
     "metadata": {},
     "output_type": "execute_result"
    }
   ],
   "source": [
    "data['screen_name'].value_counts().value_counts().sort_values(ascending=False).head()"
   ]
  },
  {
   "cell_type": "code",
   "execution_count": 84,
   "metadata": {},
   "outputs": [
    {
     "data": {
      "text/plain": [
       "Text(0, 0.5, 'Number of people')"
      ]
     },
     "execution_count": 84,
     "metadata": {},
     "output_type": "execute_result"
    },
    {
     "data": {
      "image/png": "[encoded data removed]",
      "text/plain": [
       "<Figure size 720x432 with 1 Axes>"
      ]
     },
     "metadata": {
      "needs_background": "light"
     },
     "output_type": "display_data"
    }
   ],
   "source": [
    "plt.figure(figsize=(10, 6))\n",
    "\n",
    "plt.hist(data['screen_name'].value_counts().values, bins=70);\n",
    "\n",
    "plt.title('Number of Bitcoin tweets per user')\n",
    "plt.xlabel('Number of tweets')\n",
    "plt.ylabel('Number of people')"
   ]
  },
  {
   "cell_type": "code",
   "execution_count": 87,
   "metadata": {},
   "outputs": [
    {
     "data": {
      "text/plain": [
       "Text(0, 0.5, 'Number of people')"
      ]
     },
     "execution_count": 87,
     "metadata": {},
     "output_type": "execute_result"
    },
    {
     "data": {
      "image/png": "[encoded data removed]",
      "text/plain": [
       "<Figure size 720x432 with 1 Axes>"
      ]
     },
     "metadata": {
      "needs_background": "light"
     },
     "output_type": "display_data"
    }
   ],
   "source": [
    "plt.figure(figsize=(10, 6))\n",
    "\n",
    "plt.hist(data['screen_name'].value_counts().values, bins=70);\n",
    "plt.xscale('log')\n",
    "\n",
    "plt.title('Number of Bitcoin tweets per user')\n",
    "plt.xlabel('Number of tweets')\n",
    "plt.ylabel('Number of people')"
   ]
  },
  {
   "cell_type": "markdown",
   "metadata": {},
   "source": [
    "### Sentiment analysis"
   ]
  },
  {
   "cell_type": "code",
   "execution_count": null,
   "metadata": {},
   "outputs": [],
   "source": []
  },
  {
   "cell_type": "code",
   "execution_count": null,
   "metadata": {},
   "outputs": [],
   "source": []
  },
  {
   "cell_type": "code",
   "execution_count": null,
   "metadata": {},
   "outputs": [],
   "source": []
  },
  {
   "cell_type": "code",
   "execution_count": null,
   "metadata": {},
   "outputs": [],
   "source": []
  },
  {
   "cell_type": "code",
   "execution_count": null,
   "metadata": {},
   "outputs": [],
   "source": []
  }
 ],
 "metadata": {
  "kernelspec": {
   "display_name": "Python 3",
   "language": "python",
   "name": "python3"
  },
  "language_info": {
   "codemirror_mode": {
    "name": "ipython",
    "version": 3
   },
   "file_extension": ".py",
   "mimetype": "text/x-python",
   "name": "python",
   "nbconvert_exporter": "python",
   "pygments_lexer": "ipython3",
   "version": "3.7.4"
  }
 },
 "nbformat": 4,
 "nbformat_minor": 2
}
