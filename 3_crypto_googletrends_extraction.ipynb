{
 "cells": [
  {
   "cell_type": "markdown",
   "metadata": {},
   "source": [
    "This noteboook aims to retrieve bitcoin prices minutely, hourly and daily from the [Binance API](https://python-binance.readthedocs.io/en/latest/binance.html) and save results into a csv.\n",
    "\n",
    "It also gets the Google Trends data hourly from [pytrends](https://pypi.org/project/pytrends/#api) open-source library (unofficial library for Google Trends API)"
   ]
  },
  {
   "cell_type": "code",
   "execution_count": 1,
   "metadata": {},
   "outputs": [],
   "source": [
    "import pandas as pd\n",
    "import math\n",
    "import os\n",
    "from binance.client import Client\n",
    "from datetime import datetime\n",
    "from dateutil import parser\n",
    "import config\n",
    "\n",
    "from pytrends.request import TrendReq"
   ]
  },
  {
   "cell_type": "markdown",
   "metadata": {},
   "source": [
    "# Crypto Extraction"
   ]
  },
  {
   "cell_type": "code",
   "execution_count": 2,
   "metadata": {},
   "outputs": [],
   "source": [
    "### CONSTANTS\n",
    "symbol = 'BTCUSDT'\n",
    "binsizes = {\"1m\": 1, \"5m\": 5, \"1h\": 60, \"1d\": 1440}\n",
    "batch_size = 950\n",
    "binance_client = Client(api_key=config.API_KEY, api_secret=config.API_SECRET)"
   ]
  },
  {
   "cell_type": "code",
   "execution_count": 3,
   "metadata": {},
   "outputs": [],
   "source": [
    "### FUNCTIONS\n",
    "def minutes_of_new_data(symbol, kline_size, data):\n",
    "    \"\"\"Set a new, old dates for the crypto extraction to retrieve new data.\"\"\"\n",
    "    if len(data) > 0:\n",
    "        old = parser.parse(data[\"timestamp\"].iloc[-1])\n",
    "    else:\n",
    "        old = datetime.strptime('1 Jan 2021', '%d %b %Y')\n",
    "    new = pd.to_datetime(binance_client.get_klines(symbol=symbol, interval=kline_size)[-1][0], unit='ms')\n",
    "\n",
    "    return old, new\n",
    "\n",
    "\n",
    "def get_all_binance(symbol, kline_size, save=False):\n",
    "    \"\"\"It gets historical btc/usd prices from the binance API\n",
    "    \n",
    "    Parameters\n",
    "    ----------\n",
    "    symbol : str. Capital letters\n",
    "    kline_size : str. Period of the prices in return\n",
    "    save : bool\n",
    "    \"\"\"\n",
    "    filename = 'C:/Users/Javi/Desktop/cryptocurrency_predictor/data/crypto/%s_%s_data.csv' % (symbol, kline_size)\n",
    "\n",
    "    if os.path.isfile(filename):\n",
    "        data_df = pd.read_csv(filename)\n",
    "\n",
    "    else:\n",
    "        data_df = pd.DataFrame()\n",
    "\n",
    "    oldest_point, newest_point = minutes_of_new_data(symbol, kline_size, data_df)\n",
    "\n",
    "    delta_min = (newest_point - oldest_point).total_seconds() / 60\n",
    "    available_data = math.ceil(delta_min / binsizes[kline_size])\n",
    "\n",
    "    if oldest_point == datetime.strptime('1 Jan 2021', '%d %b %Y'):\n",
    "        print('Downloading all available %s data for %s. Be patient..!' % (kline_size, symbol))\n",
    "    else:\n",
    "        print('Downloading %d minutes of new data available for %s, i.e. %d instances of %s data.' % (delta_min, symbol,\n",
    "                                                                                                      available_data,\n",
    "                                                                                                      kline_size))\n",
    "\n",
    "    klines = binance_client.get_historical_klines(symbol,\n",
    "                                                  kline_size,\n",
    "                                                  oldest_point.strftime(\"%d %b %Y %H:%M:%S\"),\n",
    "                                                  newest_point.strftime(\"%d %b %Y %H:%M:%S\"))\n",
    "    data = pd.DataFrame(klines,\n",
    "                        columns=['timestamp', 'open', 'high', 'low', 'close', 'volume', 'close_time', 'quote_av',\n",
    "                                 'trades', 'tb_base_av', 'tb_quote_av', 'ignore'])\n",
    "    data['timestamp'] = pd.to_datetime(data['timestamp'], unit='ms')\n",
    "\n",
    "    if len(data_df) > 0:\n",
    "        temp_df = pd.DataFrame(data)\n",
    "        data_df = data_df.append(temp_df)\n",
    "    else:\n",
    "        data_df = data\n",
    "\n",
    "    data_df.set_index('timestamp', inplace=True)\n",
    "    if save:\n",
    "        data_df.drop(['quote_av', 'trades', 'tb_base_av', 'tb_quote_av', 'ignore'], axis=1).to_csv(filename)\n",
    "\n",
    "    print('All caught up..!')\n",
    "    # return data_df.drop(['quote_av', 'trades', 'tb_base_av', 'tb_quote_av', 'ignore'], axis=1)"
   ]
  },
  {
   "cell_type": "code",
   "execution_count": 4,
   "metadata": {},
   "outputs": [
    {
     "name": "stdout",
     "output_type": "stream",
     "text": [
      "Downloading 11463 minutes of new data available for BTCUSDT, i.e. 11463 instances of 1m data.\n",
      "All caught up..!\n"
     ]
    }
   ],
   "source": [
    "get_all_binance(symbol=symbol, kline_size='1m', save=True)"
   ]
  },
  {
   "cell_type": "code",
   "execution_count": 5,
   "metadata": {},
   "outputs": [
    {
     "name": "stdout",
     "output_type": "stream",
     "text": [
      "Downloading 11460 minutes of new data available for BTCUSDT, i.e. 2292 instances of 5m data.\n",
      "All caught up..!\n"
     ]
    }
   ],
   "source": [
    "get_all_binance(symbol=symbol, kline_size='5m', save=True)"
   ]
  },
  {
   "cell_type": "code",
   "execution_count": 6,
   "metadata": {},
   "outputs": [
    {
     "name": "stdout",
     "output_type": "stream",
     "text": [
      "Downloading 11460 minutes of new data available for BTCUSDT, i.e. 191 instances of 1h data.\n",
      "All caught up..!\n"
     ]
    }
   ],
   "source": [
    "get_all_binance(symbol=symbol, kline_size='1h', save=True)"
   ]
  },
  {
   "cell_type": "markdown",
   "metadata": {},
   "source": [
    "### First look at the data"
   ]
  },
  {
   "cell_type": "code",
   "execution_count": 8,
   "metadata": {},
   "outputs": [],
   "source": [
    "btc_h = pd.read_csv('C:/Users/Javi/Desktop/cryptocurrency_predictor/data/crypto/BTCUSDT_1h_data.csv')"
   ]
  },
  {
   "cell_type": "code",
   "execution_count": 9,
   "metadata": {},
   "outputs": [
    {
     "name": "stdout",
     "output_type": "stream",
     "text": [
      "<class 'pandas.core.frame.DataFrame'>\n",
      "RangeIndex: 1643 entries, 0 to 1642\n",
      "Data columns (total 7 columns):\n",
      " #   Column      Non-Null Count  Dtype  \n",
      "---  ------      --------------  -----  \n",
      " 0   timestamp   1643 non-null   object \n",
      " 1   open        1643 non-null   float64\n",
      " 2   high        1643 non-null   float64\n",
      " 3   low         1643 non-null   float64\n",
      " 4   close       1643 non-null   float64\n",
      " 5   volume      1643 non-null   float64\n",
      " 6   close_time  1643 non-null   int64  \n",
      "dtypes: float64(5), int64(1), object(1)\n",
      "memory usage: 90.0+ KB\n"
     ]
    },
    {
     "data": {
      "text/html": [
       "<div>\n",
       "<style scoped>\n",
       "    .dataframe tbody tr th:only-of-type {\n",
       "        vertical-align: middle;\n",
       "    }\n",
       "\n",
       "    .dataframe tbody tr th {\n",
       "        vertical-align: top;\n",
       "    }\n",
       "\n",
       "    .dataframe thead th {\n",
       "        text-align: right;\n",
       "    }\n",
       "</style>\n",
       "<table border=\"1\" class=\"dataframe\">\n",
       "  <thead>\n",
       "    <tr style=\"text-align: right;\">\n",
       "      <th></th>\n",
       "      <th>timestamp</th>\n",
       "      <th>open</th>\n",
       "      <th>high</th>\n",
       "      <th>low</th>\n",
       "      <th>close</th>\n",
       "      <th>volume</th>\n",
       "      <th>close_time</th>\n",
       "    </tr>\n",
       "  </thead>\n",
       "  <tbody>\n",
       "    <tr>\n",
       "      <th>0</th>\n",
       "      <td>2021-01-01 00:00:00</td>\n",
       "      <td>28923.63</td>\n",
       "      <td>29031.34</td>\n",
       "      <td>28690.17</td>\n",
       "      <td>28995.13</td>\n",
       "      <td>2311.811445</td>\n",
       "      <td>1609462799999</td>\n",
       "    </tr>\n",
       "    <tr>\n",
       "      <th>1</th>\n",
       "      <td>2021-01-01 01:00:00</td>\n",
       "      <td>28995.13</td>\n",
       "      <td>29470.00</td>\n",
       "      <td>28960.35</td>\n",
       "      <td>29409.99</td>\n",
       "      <td>5403.068471</td>\n",
       "      <td>1609466399999</td>\n",
       "    </tr>\n",
       "    <tr>\n",
       "      <th>2</th>\n",
       "      <td>2021-01-01 02:00:00</td>\n",
       "      <td>29410.00</td>\n",
       "      <td>29465.26</td>\n",
       "      <td>29120.03</td>\n",
       "      <td>29194.65</td>\n",
       "      <td>2384.231560</td>\n",
       "      <td>1609469999999</td>\n",
       "    </tr>\n",
       "    <tr>\n",
       "      <th>3</th>\n",
       "      <td>2021-01-01 03:00:00</td>\n",
       "      <td>29195.25</td>\n",
       "      <td>29367.00</td>\n",
       "      <td>29150.02</td>\n",
       "      <td>29278.40</td>\n",
       "      <td>1461.345077</td>\n",
       "      <td>1609473599999</td>\n",
       "    </tr>\n",
       "    <tr>\n",
       "      <th>4</th>\n",
       "      <td>2021-01-01 04:00:00</td>\n",
       "      <td>29278.41</td>\n",
       "      <td>29395.00</td>\n",
       "      <td>29029.40</td>\n",
       "      <td>29220.31</td>\n",
       "      <td>2038.046803</td>\n",
       "      <td>1609477199999</td>\n",
       "    </tr>\n",
       "  </tbody>\n",
       "</table>\n",
       "</div>"
      ],
      "text/plain": [
       "             timestamp      open      high       low     close       volume  \\\n",
       "0  2021-01-01 00:00:00  28923.63  29031.34  28690.17  28995.13  2311.811445   \n",
       "1  2021-01-01 01:00:00  28995.13  29470.00  28960.35  29409.99  5403.068471   \n",
       "2  2021-01-01 02:00:00  29410.00  29465.26  29120.03  29194.65  2384.231560   \n",
       "3  2021-01-01 03:00:00  29195.25  29367.00  29150.02  29278.40  1461.345077   \n",
       "4  2021-01-01 04:00:00  29278.41  29395.00  29029.40  29220.31  2038.046803   \n",
       "\n",
       "      close_time  \n",
       "0  1609462799999  \n",
       "1  1609466399999  \n",
       "2  1609469999999  \n",
       "3  1609473599999  \n",
       "4  1609477199999  "
      ]
     },
     "execution_count": 9,
     "metadata": {},
     "output_type": "execute_result"
    }
   ],
   "source": [
    "btc_h.info()\n",
    "btc_h.head()"
   ]
  },
  {
   "cell_type": "markdown",
   "metadata": {},
   "source": [
    "# Google Trends Extraction"
   ]
  },
  {
   "cell_type": "code",
   "execution_count": 2,
   "metadata": {},
   "outputs": [],
   "source": [
    "import matplotlib.pyplot as plt\n",
    "plt.style.use('seaborn')\n",
    "import numpy as np\n",
    "from datetime import timedelta"
   ]
  },
  {
   "cell_type": "code",
   "execution_count": 3,
   "metadata": {},
   "outputs": [],
   "source": [
    "pytrends = TrendReq(hl='en-US', tz=360)\n",
    "keywords = ['bitcoin']"
   ]
  },
  {
   "cell_type": "code",
   "execution_count": 4,
   "metadata": {},
   "outputs": [],
   "source": [
    "btc_trends = pytrends.get_historical_interest(keywords,\n",
    "                                              year_start=2021, month_start=1, day_start=1, hour_start=0,\n",
    "                                              year_end=2021, month_end=3, day_end=1, hour_end=0,\n",
    "                                              cat=0, geo='', gprop='', sleep=60\n",
    "                                             )"
   ]
  },
  {
   "cell_type": "code",
   "execution_count": 8,
   "metadata": {},
   "outputs": [
    {
     "name": "stdout",
     "output_type": "stream",
     "text": [
      "<class 'pandas.core.frame.DataFrame'>\n",
      "DatetimeIndex: 1425 entries, 2021-01-01 06:00:00 to 2021-03-01 06:00:00\n",
      "Data columns (total 1 columns):\n",
      " #   Column   Non-Null Count  Dtype\n",
      "---  ------   --------------  -----\n",
      " 0   bitcoin  1425 non-null   int32\n",
      "dtypes: int32(1)\n",
      "memory usage: 16.7 KB\n"
     ]
    },
    {
     "data": {
      "text/html": [
       "<div>\n",
       "<style scoped>\n",
       "    .dataframe tbody tr th:only-of-type {\n",
       "        vertical-align: middle;\n",
       "    }\n",
       "\n",
       "    .dataframe tbody tr th {\n",
       "        vertical-align: top;\n",
       "    }\n",
       "\n",
       "    .dataframe thead th {\n",
       "        text-align: right;\n",
       "    }\n",
       "</style>\n",
       "<table border=\"1\" class=\"dataframe\">\n",
       "  <thead>\n",
       "    <tr style=\"text-align: right;\">\n",
       "      <th></th>\n",
       "      <th>bitcoin</th>\n",
       "    </tr>\n",
       "    <tr>\n",
       "      <th>date</th>\n",
       "      <th></th>\n",
       "    </tr>\n",
       "  </thead>\n",
       "  <tbody>\n",
       "    <tr>\n",
       "      <th>2021-01-01 06:00:00</th>\n",
       "      <td>27</td>\n",
       "    </tr>\n",
       "    <tr>\n",
       "      <th>2021-01-01 07:00:00</th>\n",
       "      <td>26</td>\n",
       "    </tr>\n",
       "    <tr>\n",
       "      <th>2021-01-01 08:00:00</th>\n",
       "      <td>25</td>\n",
       "    </tr>\n",
       "  </tbody>\n",
       "</table>\n",
       "</div>"
      ],
      "text/plain": [
       "                     bitcoin\n",
       "date                        \n",
       "2021-01-01 06:00:00       27\n",
       "2021-01-01 07:00:00       26\n",
       "2021-01-01 08:00:00       25"
      ]
     },
     "execution_count": 8,
     "metadata": {},
     "output_type": "execute_result"
    }
   ],
   "source": [
    "btc_trends.drop('isPartial', axis=1, inplace=True)\n",
    "# Dates are in US CST (UTC - 6) by default\n",
    "btc_trends.index = pd.to_datetime(btc_trends.index) + timedelta(hours=6)\n",
    "btc_trends.info()\n",
    "btc_trends.head(3)"
   ]
  },
  {
   "cell_type": "code",
   "execution_count": 16,
   "metadata": {},
   "outputs": [],
   "source": [
    "btc_trends.to_csv('C:/Users/Javi/Desktop/cryptocurrency_predictor/data/google_trends/bitcoin_trends.csv')"
   ]
  },
  {
   "cell_type": "code",
   "execution_count": null,
   "metadata": {},
   "outputs": [],
   "source": []
  }
 ],
 "metadata": {
  "kernelspec": {
   "display_name": "Python 3",
   "language": "python",
   "name": "python3"
  },
  "language_info": {
   "codemirror_mode": {
    "name": "ipython",
    "version": 3
   },
   "file_extension": ".py",
   "mimetype": "text/x-python",
   "name": "python",
   "nbconvert_exporter": "python",
   "pygments_lexer": "ipython3",
   "version": "3.6.10"
  }
 },
 "nbformat": 4,
 "nbformat_minor": 2
}
